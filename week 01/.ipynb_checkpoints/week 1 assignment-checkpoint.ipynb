{
 "cells": [
  {
   "cell_type": "markdown",
   "id": "1ec5d876-2d99-4a88-8bf4-5fe793aa4ef7",
   "metadata": {},
   "source": [
    "## Week 2 Assignment: Introduction"
   ]
  },
  {
   "cell_type": "markdown",
   "id": "ab89341f-ccd7-47a8-be6a-1e51ff4379a9",
   "metadata": {},
   "source": [
    "This notebook analyses historical rent prices for cities in California over the period of 2014 through the summer of 2021.  The data was pulled from Zillow's Observed Rent Index (\"ZORI\") and is available <a href=\"https://www.zillow.com/research/data/\"> here</a>. I removed the non-California entries from the national set in Excel before uploading the file."
   ]
  },
  {
   "cell_type": "markdown",
   "id": "c73c9922-3ec1-425e-b700-ecef834e1914",
   "metadata": {},
   "source": [
    "**1.**  Import geopandas software library to map spatial data."
   ]
  },
  {
   "cell_type": "code",
   "execution_count": 1,
   "id": "7f1ee7f9-34d7-4f7d-839c-e5dcbc5434a9",
   "metadata": {},
   "outputs": [],
   "source": [
    "import geopandas as gpd"
   ]
  },
  {
   "cell_type": "markdown",
   "id": "82e8bbd7-2eb4-41a2-9ae6-286b4a277236",
   "metadata": {},
   "source": [
    "**2.** Import the data"
   ]
  },
  {
   "cell_type": "code",
   "execution_count": 3,
   "id": "d78b9244-eb9d-4ce5-92bf-9f907daf6d4e",
   "metadata": {},
   "outputs": [],
   "source": [
    "rent_prices = gpd.read_file('Zip_ZORI_AllHomesPlusMultifamily_SSA.csv')"
   ]
  },
  {
   "cell_type": "markdown",
   "id": "2617aa9f-e9f7-46e3-9eee-83333e2d1190",
   "metadata": {},
   "source": [
    "**3.** Basic properties of the data"
   ]
  },
  {
   "cell_type": "code",
   "execution_count": 4,
   "id": "6e7ee46f-dc1d-4d7a-a425-5724eabaa260",
   "metadata": {},
   "outputs": [
    {
     "data": {
      "text/plain": [
       "geopandas.geodataframe.GeoDataFrame"
      ]
     },
     "execution_count": 4,
     "metadata": {},
     "output_type": "execute_result"
    }
   ],
   "source": [
    "type(rent_prices)"
   ]
  },
  {
   "cell_type": "markdown",
   "id": "6bc81664-53bb-4deb-be41-3d8767e48436",
   "metadata": {},
   "source": [
    "The output, a GeoDataFrame, affirms that the file in question is a table of values."
   ]
  },
  {
   "cell_type": "markdown",
   "id": "9b1a8e53-1f2a-4fe0-aaf0-ad29fcdd37dd",
   "metadata": {},
   "source": [
    "**4.** Figuring out the extent of the data"
   ]
  },
  {
   "cell_type": "code",
   "execution_count": 6,
   "id": "21120138-06fb-49e3-8531-30e33007054e",
   "metadata": {},
   "outputs": [
    {
     "data": {
      "text/plain": [
       "(376, 97)"
      ]
     },
     "execution_count": 6,
     "metadata": {},
     "output_type": "execute_result"
    }
   ],
   "source": [
    "rent_prices.shape"
   ]
  },
  {
   "cell_type": "markdown",
   "id": "4412d7cb-2a45-48ca-bc6a-03c595f45271",
   "metadata": {},
   "source": [
    "The table is comprised of 376 rows and 97 columns."
   ]
  },
  {
   "cell_type": "markdown",
   "id": "52db2bc4-21ac-4a88-8022-048683493776",
   "metadata": {},
   "source": [
    "**5.** Learning more about the data's properties."
   ]
  },
  {
   "cell_type": "code",
   "execution_count": 7,
   "id": "2076d7b9-6f20-4cff-842d-079d8e6e5352",
   "metadata": {},
   "outputs": [
    {
     "data": {
      "text/plain": [
       "<bound method DataFrame.info of     RegionID RegionName SizeRank                             MsaName 2014-01  \\\n",
       "0      95985      90004      255  Los Angeles-Long Beach-Anaheim, CA           \n",
       "1      95988      90007     2334  Los Angeles-Long Beach-Anaheim, CA           \n",
       "2      95994      90013     5770  Los Angeles-Long Beach-Anaheim, CA    2409   \n",
       "3      95996      90015     3559  Los Angeles-Long Beach-Anaheim, CA    2374   \n",
       "4      95997      90016     1269  Los Angeles-Long Beach-Anaheim, CA    1460   \n",
       "..       ...        ...      ...                                 ...     ...   \n",
       "371    98442      95833     2103                      Sacramento, CA    1286   \n",
       "372    98443      95834     2759                      Sacramento, CA    1255   \n",
       "373    98444      95835     2260                      Sacramento, CA    1509   \n",
       "374    98451      95843     2086                      Sacramento, CA    1251   \n",
       "375    98457      95864     4123                      Sacramento, CA    1133   \n",
       "\n",
       "    2014-02 2014-03 2014-04 2014-05 2014-06  ... 2020-12 2021-01 2021-02  \\\n",
       "0      1321            1335    1342    1350  ...    1768    1770    1774   \n",
       "1                      1256                  ...                    2413   \n",
       "2      2375            2306    2275          ...    2510    2506    2505   \n",
       "3      2378    2382    2387    2391    2395  ...    2646    2651    2658   \n",
       "4      1482    1503    1525    1545    1565  ...    2493    2493    2494   \n",
       "..      ...     ...     ...     ...     ...  ...     ...     ...     ...   \n",
       "371    1291    1295    1300    1305    1310  ...    1942    1965    1988   \n",
       "372    1266    1276    1286    1296    1306  ...    1957    1981    2006   \n",
       "373    1514    1519    1524    1530    1535  ...    2223    2244    2266   \n",
       "374    1258    1264    1271    1278    1284  ...    1896    1924    1954   \n",
       "375    1143    1154    1164            1184  ...    1912    1929    1946   \n",
       "\n",
       "    2021-03 2021-04 2021-05 2021-06 2021-07 2021-08 geometry  \n",
       "0      1777    1781    1785    1789    1793    1799     None  \n",
       "1      2434    2456                            2532     None  \n",
       "2      2503    2501    2500    2499    2498    2497     None  \n",
       "3      2666    2673    2684    2694    2704    2717     None  \n",
       "4      2494    2494    2494    2495    2496    2497     None  \n",
       "..      ...     ...     ...     ...     ...     ...      ...  \n",
       "371    2011    2034    2059    2083    2107    2132     None  \n",
       "372    2031    2056    2081    2107    2132    2158     None  \n",
       "373    2287    2309    2330    2352    2373    2395     None  \n",
       "374    1984    2014    2044    2075    2105    2136     None  \n",
       "375    1964    1981    1999    2017    2034    2053     None  \n",
       "\n",
       "[376 rows x 97 columns]>"
      ]
     },
     "execution_count": 7,
     "metadata": {},
     "output_type": "execute_result"
    }
   ],
   "source": [
    "rent_prices.info"
   ]
  },
  {
   "cell_type": "markdown",
   "id": "4e982ec0-659e-4201-9bb7-e4f112212bf9",
   "metadata": {},
   "source": [
    "We can see in the geometry column that there are no spatial properties to this data (beyond the zipcodes included in the third column).  We can also note that there are clearly some blank entries, i.e. months for which the data set is missing a rent value.  Additionally, because of the way column headers shifted so that they are not directly over the data, it may be helpful to display the columns as a list."
   ]
  },
  {
   "cell_type": "markdown",
   "id": "32bf056d-fd41-4cd4-b844-8c0717e364cc",
   "metadata": {},
   "source": [
    "**6.** Clarifying the column names"
   ]
  },
  {
   "cell_type": "code",
   "execution_count": 8,
   "id": "4555abee-a75d-407f-b27c-e50580dbbf7f",
   "metadata": {},
   "outputs": [
    {
     "data": {
      "text/plain": [
       "['RegionID',\n",
       " 'RegionName',\n",
       " 'SizeRank',\n",
       " 'MsaName',\n",
       " '2014-01',\n",
       " '2014-02',\n",
       " '2014-03',\n",
       " '2014-04',\n",
       " '2014-05',\n",
       " '2014-06',\n",
       " '2014-07',\n",
       " '2014-08',\n",
       " '2014-09',\n",
       " '2014-10',\n",
       " '2014-11',\n",
       " '2014-12',\n",
       " '2015-01',\n",
       " '2015-02',\n",
       " '2015-03',\n",
       " '2015-04',\n",
       " '2015-05',\n",
       " '2015-06',\n",
       " '2015-07',\n",
       " '2015-08',\n",
       " '2015-09',\n",
       " '2015-10',\n",
       " '2015-11',\n",
       " '2015-12',\n",
       " '2016-01',\n",
       " '2016-02',\n",
       " '2016-03',\n",
       " '2016-04',\n",
       " '2016-05',\n",
       " '2016-06',\n",
       " '2016-07',\n",
       " '2016-08',\n",
       " '2016-09',\n",
       " '2016-10',\n",
       " '2016-11',\n",
       " '2016-12',\n",
       " '2017-01',\n",
       " '2017-02',\n",
       " '2017-03',\n",
       " '2017-04',\n",
       " '2017-05',\n",
       " '2017-06',\n",
       " '2017-07',\n",
       " '2017-08',\n",
       " '2017-09',\n",
       " '2017-10',\n",
       " '2017-11',\n",
       " '2017-12',\n",
       " '2018-01',\n",
       " '2018-02',\n",
       " '2018-03',\n",
       " '2018-04',\n",
       " '2018-05',\n",
       " '2018-06',\n",
       " '2018-07',\n",
       " '2018-08',\n",
       " '2018-09',\n",
       " '2018-10',\n",
       " '2018-11',\n",
       " '2018-12',\n",
       " '2019-01',\n",
       " '2019-02',\n",
       " '2019-03',\n",
       " '2019-04',\n",
       " '2019-05',\n",
       " '2019-06',\n",
       " '2019-07',\n",
       " '2019-08',\n",
       " '2019-09',\n",
       " '2019-10',\n",
       " '2019-11',\n",
       " '2019-12',\n",
       " '2020-01',\n",
       " '2020-02',\n",
       " '2020-03',\n",
       " '2020-04',\n",
       " '2020-05',\n",
       " '2020-06',\n",
       " '2020-07',\n",
       " '2020-08',\n",
       " '2020-09',\n",
       " '2020-10',\n",
       " '2020-11',\n",
       " '2020-12',\n",
       " '2021-01',\n",
       " '2021-02',\n",
       " '2021-03',\n",
       " '2021-04',\n",
       " '2021-05',\n",
       " '2021-06',\n",
       " '2021-07',\n",
       " '2021-08',\n",
       " 'geometry']"
      ]
     },
     "execution_count": 8,
     "metadata": {},
     "output_type": "execute_result"
    }
   ],
   "source": [
    "rent_prices.columns.to_list()"
   ]
  },
  {
   "cell_type": "markdown",
   "id": "3394171e-16a6-4dc0-97a1-31c78e95b788",
   "metadata": {},
   "source": [
    "Looking both at this list and the data table above, we can see more clearly which header corresponds to which column of data.  Since I ran this operation after the .info operation, there is an extra column listed at the bottom ('geometry') that was not part of the original data set. Note that 'RegionName' and *not* 'RegionID' is the zipcode of each area in question."
   ]
  },
  {
   "cell_type": "markdown",
   "id": "50693f40-a2c2-49ac-bff4-b58a31cc673a",
   "metadata": {},
   "source": [
    "**7.** Examining the beginning of the data set."
   ]
  },
  {
   "cell_type": "code",
   "execution_count": 9,
   "id": "3c151e00-76ea-494a-85c3-73fd32ee1d62",
   "metadata": {},
   "outputs": [
    {
     "data": {
      "text/html": [
       "<div>\n",
       "<style scoped>\n",
       "    .dataframe tbody tr th:only-of-type {\n",
       "        vertical-align: middle;\n",
       "    }\n",
       "\n",
       "    .dataframe tbody tr th {\n",
       "        vertical-align: top;\n",
       "    }\n",
       "\n",
       "    .dataframe thead th {\n",
       "        text-align: right;\n",
       "    }\n",
       "</style>\n",
       "<table border=\"1\" class=\"dataframe\">\n",
       "  <thead>\n",
       "    <tr style=\"text-align: right;\">\n",
       "      <th></th>\n",
       "      <th>RegionID</th>\n",
       "      <th>RegionName</th>\n",
       "      <th>SizeRank</th>\n",
       "      <th>MsaName</th>\n",
       "      <th>2014-01</th>\n",
       "      <th>2014-02</th>\n",
       "      <th>2014-03</th>\n",
       "      <th>2014-04</th>\n",
       "      <th>2014-05</th>\n",
       "      <th>2014-06</th>\n",
       "      <th>...</th>\n",
       "      <th>2020-12</th>\n",
       "      <th>2021-01</th>\n",
       "      <th>2021-02</th>\n",
       "      <th>2021-03</th>\n",
       "      <th>2021-04</th>\n",
       "      <th>2021-05</th>\n",
       "      <th>2021-06</th>\n",
       "      <th>2021-07</th>\n",
       "      <th>2021-08</th>\n",
       "      <th>geometry</th>\n",
       "    </tr>\n",
       "  </thead>\n",
       "  <tbody>\n",
       "    <tr>\n",
       "      <th>0</th>\n",
       "      <td>95985</td>\n",
       "      <td>90004</td>\n",
       "      <td>255</td>\n",
       "      <td>Los Angeles-Long Beach-Anaheim, CA</td>\n",
       "      <td></td>\n",
       "      <td>1321</td>\n",
       "      <td></td>\n",
       "      <td>1335</td>\n",
       "      <td>1342</td>\n",
       "      <td>1350</td>\n",
       "      <td>...</td>\n",
       "      <td>1768</td>\n",
       "      <td>1770</td>\n",
       "      <td>1774</td>\n",
       "      <td>1777</td>\n",
       "      <td>1781</td>\n",
       "      <td>1785</td>\n",
       "      <td>1789</td>\n",
       "      <td>1793</td>\n",
       "      <td>1799</td>\n",
       "      <td>None</td>\n",
       "    </tr>\n",
       "    <tr>\n",
       "      <th>1</th>\n",
       "      <td>95988</td>\n",
       "      <td>90007</td>\n",
       "      <td>2334</td>\n",
       "      <td>Los Angeles-Long Beach-Anaheim, CA</td>\n",
       "      <td></td>\n",
       "      <td></td>\n",
       "      <td></td>\n",
       "      <td>1256</td>\n",
       "      <td></td>\n",
       "      <td></td>\n",
       "      <td>...</td>\n",
       "      <td></td>\n",
       "      <td></td>\n",
       "      <td>2413</td>\n",
       "      <td>2434</td>\n",
       "      <td>2456</td>\n",
       "      <td></td>\n",
       "      <td></td>\n",
       "      <td></td>\n",
       "      <td>2532</td>\n",
       "      <td>None</td>\n",
       "    </tr>\n",
       "    <tr>\n",
       "      <th>2</th>\n",
       "      <td>95994</td>\n",
       "      <td>90013</td>\n",
       "      <td>5770</td>\n",
       "      <td>Los Angeles-Long Beach-Anaheim, CA</td>\n",
       "      <td>2409</td>\n",
       "      <td>2375</td>\n",
       "      <td></td>\n",
       "      <td>2306</td>\n",
       "      <td>2275</td>\n",
       "      <td></td>\n",
       "      <td>...</td>\n",
       "      <td>2510</td>\n",
       "      <td>2506</td>\n",
       "      <td>2505</td>\n",
       "      <td>2503</td>\n",
       "      <td>2501</td>\n",
       "      <td>2500</td>\n",
       "      <td>2499</td>\n",
       "      <td>2498</td>\n",
       "      <td>2497</td>\n",
       "      <td>None</td>\n",
       "    </tr>\n",
       "    <tr>\n",
       "      <th>3</th>\n",
       "      <td>95996</td>\n",
       "      <td>90015</td>\n",
       "      <td>3559</td>\n",
       "      <td>Los Angeles-Long Beach-Anaheim, CA</td>\n",
       "      <td>2374</td>\n",
       "      <td>2378</td>\n",
       "      <td>2382</td>\n",
       "      <td>2387</td>\n",
       "      <td>2391</td>\n",
       "      <td>2395</td>\n",
       "      <td>...</td>\n",
       "      <td>2646</td>\n",
       "      <td>2651</td>\n",
       "      <td>2658</td>\n",
       "      <td>2666</td>\n",
       "      <td>2673</td>\n",
       "      <td>2684</td>\n",
       "      <td>2694</td>\n",
       "      <td>2704</td>\n",
       "      <td>2717</td>\n",
       "      <td>None</td>\n",
       "    </tr>\n",
       "    <tr>\n",
       "      <th>4</th>\n",
       "      <td>95997</td>\n",
       "      <td>90016</td>\n",
       "      <td>1269</td>\n",
       "      <td>Los Angeles-Long Beach-Anaheim, CA</td>\n",
       "      <td>1460</td>\n",
       "      <td>1482</td>\n",
       "      <td>1503</td>\n",
       "      <td>1525</td>\n",
       "      <td>1545</td>\n",
       "      <td>1565</td>\n",
       "      <td>...</td>\n",
       "      <td>2493</td>\n",
       "      <td>2493</td>\n",
       "      <td>2494</td>\n",
       "      <td>2494</td>\n",
       "      <td>2494</td>\n",
       "      <td>2494</td>\n",
       "      <td>2495</td>\n",
       "      <td>2496</td>\n",
       "      <td>2497</td>\n",
       "      <td>None</td>\n",
       "    </tr>\n",
       "  </tbody>\n",
       "</table>\n",
       "<p>5 rows × 97 columns</p>\n",
       "</div>"
      ],
      "text/plain": [
       "  RegionID RegionName SizeRank                             MsaName 2014-01  \\\n",
       "0    95985      90004      255  Los Angeles-Long Beach-Anaheim, CA           \n",
       "1    95988      90007     2334  Los Angeles-Long Beach-Anaheim, CA           \n",
       "2    95994      90013     5770  Los Angeles-Long Beach-Anaheim, CA    2409   \n",
       "3    95996      90015     3559  Los Angeles-Long Beach-Anaheim, CA    2374   \n",
       "4    95997      90016     1269  Los Angeles-Long Beach-Anaheim, CA    1460   \n",
       "\n",
       "  2014-02 2014-03 2014-04 2014-05 2014-06  ... 2020-12 2021-01 2021-02  \\\n",
       "0    1321            1335    1342    1350  ...    1768    1770    1774   \n",
       "1                    1256                  ...                    2413   \n",
       "2    2375            2306    2275          ...    2510    2506    2505   \n",
       "3    2378    2382    2387    2391    2395  ...    2646    2651    2658   \n",
       "4    1482    1503    1525    1545    1565  ...    2493    2493    2494   \n",
       "\n",
       "  2021-03 2021-04 2021-05 2021-06 2021-07 2021-08 geometry  \n",
       "0    1777    1781    1785    1789    1793    1799     None  \n",
       "1    2434    2456                            2532     None  \n",
       "2    2503    2501    2500    2499    2498    2497     None  \n",
       "3    2666    2673    2684    2694    2704    2717     None  \n",
       "4    2494    2494    2494    2495    2496    2497     None  \n",
       "\n",
       "[5 rows x 97 columns]"
      ]
     },
     "execution_count": 9,
     "metadata": {},
     "output_type": "execute_result"
    }
   ],
   "source": [
    "rent_prices.head()"
   ]
  },
  {
   "cell_type": "markdown",
   "id": "d31bb4af-3983-4c1e-b6a4-b89c21cc0025",
   "metadata": {},
   "source": [
    "Using the .head operation to cleanly display the first five rows of the table, we see cleanly the relationship between headers and columns we previously figured through the columns to list operation."
   ]
  },
  {
   "cell_type": "markdown",
   "id": "4abadb82-9d68-4e69-8951-b977fd345f11",
   "metadata": {},
   "source": [
    "**8.** Tracking local rent increases: Locating Westwood"
   ]
  },
  {
   "cell_type": "markdown",
   "id": "aac78e70-23d0-4881-82c1-04cf5ca2c2dd",
   "metadata": {},
   "source": [
    "It's pretty overwhelming to analyze how rents changed over time in 376 different zipcodes.  Let's just focus on 90024, where Westwood is. We'll need to begin by locating the relevant record and trimming the rest of the data.  We can use the .loc operation to figure out which row our data is in."
   ]
  },
  {
   "cell_type": "code",
   "execution_count": 37,
   "id": "16a4c68c-5603-4c2f-8661-3b0e7e94e57c",
   "metadata": {},
   "outputs": [
    {
     "data": {
      "text/html": [
       "<div>\n",
       "<style scoped>\n",
       "    .dataframe tbody tr th:only-of-type {\n",
       "        vertical-align: middle;\n",
       "    }\n",
       "\n",
       "    .dataframe tbody tr th {\n",
       "        vertical-align: top;\n",
       "    }\n",
       "\n",
       "    .dataframe thead th {\n",
       "        text-align: right;\n",
       "    }\n",
       "</style>\n",
       "<table border=\"1\" class=\"dataframe\">\n",
       "  <thead>\n",
       "    <tr style=\"text-align: right;\">\n",
       "      <th></th>\n",
       "      <th>RegionID</th>\n",
       "      <th>RegionName</th>\n",
       "      <th>SizeRank</th>\n",
       "      <th>MsaName</th>\n",
       "      <th>2014-01</th>\n",
       "      <th>2014-02</th>\n",
       "      <th>2014-03</th>\n",
       "      <th>2014-04</th>\n",
       "      <th>2014-05</th>\n",
       "      <th>2014-06</th>\n",
       "      <th>...</th>\n",
       "      <th>2020-12</th>\n",
       "      <th>2021-01</th>\n",
       "      <th>2021-02</th>\n",
       "      <th>2021-03</th>\n",
       "      <th>2021-04</th>\n",
       "      <th>2021-05</th>\n",
       "      <th>2021-06</th>\n",
       "      <th>2021-07</th>\n",
       "      <th>2021-08</th>\n",
       "      <th>geometry</th>\n",
       "    </tr>\n",
       "  </thead>\n",
       "  <tbody>\n",
       "    <tr>\n",
       "      <th>7</th>\n",
       "      <td>96005</td>\n",
       "      <td>90024</td>\n",
       "      <td>867</td>\n",
       "      <td>Los Angeles-Long Beach-Anaheim, CA</td>\n",
       "      <td>2454</td>\n",
       "      <td>2476</td>\n",
       "      <td>2499</td>\n",
       "      <td>2522</td>\n",
       "      <td>2544</td>\n",
       "      <td>2566</td>\n",
       "      <td>...</td>\n",
       "      <td>3426</td>\n",
       "      <td>3429</td>\n",
       "      <td>3434</td>\n",
       "      <td>3440</td>\n",
       "      <td>3445</td>\n",
       "      <td>3452</td>\n",
       "      <td>3459</td>\n",
       "      <td>3466</td>\n",
       "      <td>3474</td>\n",
       "      <td>None</td>\n",
       "    </tr>\n",
       "  </tbody>\n",
       "</table>\n",
       "<p>1 rows × 97 columns</p>\n",
       "</div>"
      ],
      "text/plain": [
       "  RegionID RegionName SizeRank                             MsaName 2014-01  \\\n",
       "7    96005      90024      867  Los Angeles-Long Beach-Anaheim, CA    2454   \n",
       "\n",
       "  2014-02 2014-03 2014-04 2014-05 2014-06  ... 2020-12 2021-01 2021-02  \\\n",
       "7    2476    2499    2522    2544    2566  ...    3426    3429    3434   \n",
       "\n",
       "  2021-03 2021-04 2021-05 2021-06 2021-07 2021-08 geometry  \n",
       "7    3440    3445    3452    3459    3466    3474     None  \n",
       "\n",
       "[1 rows x 97 columns]"
      ]
     },
     "execution_count": 37,
     "metadata": {},
     "output_type": "execute_result"
    }
   ],
   "source": [
    "rent_prices.loc[rent_prices['RegionName'] == '90024']"
   ]
  },
  {
   "cell_type": "markdown",
   "id": "d9647d8b-76c4-4a2c-9422-0e815446ffc2",
   "metadata": {},
   "source": [
    "Now that we know our data is in row 7, we can trim accordingly. Before heading on to the next step, we'll quickly define this new isolated set of data as westwood so that we can deal with it on its own."
   ]
  },
  {
   "cell_type": "code",
   "execution_count": 38,
   "id": "03288bdb-a616-4633-9c6c-fb769507b994",
   "metadata": {},
   "outputs": [],
   "source": [
    "rent_prices.loc[rent_prices['RegionName'] == '90024'] = westwood"
   ]
  },
  {
   "cell_type": "markdown",
   "id": "6546fd28-79be-4f85-9ea3-f39909e47401",
   "metadata": {},
   "source": [
    "**9.** Trimming columns: It would be ungainly to have columns for every month going back 7 years, so let's just pick January and check the rents annually by isolating a few columns."
   ]
  },
  {
   "cell_type": "code",
   "execution_count": 39,
   "id": "11203d16-ae98-481f-8f39-a73d70c323ec",
   "metadata": {},
   "outputs": [],
   "source": [
    "desired_columns = ['2014-01','2015-01','2016-01','2017-01','2018-01','2019-01','2020-01','2021-01']"
   ]
  },
  {
   "cell_type": "code",
   "execution_count": 40,
   "id": "8a3abb75-bac9-4a5a-80ff-8ce2e149b575",
   "metadata": {},
   "outputs": [
    {
     "data": {
      "text/html": [
       "<div>\n",
       "<style scoped>\n",
       "    .dataframe tbody tr th:only-of-type {\n",
       "        vertical-align: middle;\n",
       "    }\n",
       "\n",
       "    .dataframe tbody tr th {\n",
       "        vertical-align: top;\n",
       "    }\n",
       "\n",
       "    .dataframe thead th {\n",
       "        text-align: right;\n",
       "    }\n",
       "</style>\n",
       "<table border=\"1\" class=\"dataframe\">\n",
       "  <thead>\n",
       "    <tr style=\"text-align: right;\">\n",
       "      <th></th>\n",
       "      <th>2014-01</th>\n",
       "      <th>2015-01</th>\n",
       "      <th>2016-01</th>\n",
       "      <th>2017-01</th>\n",
       "      <th>2018-01</th>\n",
       "      <th>2019-01</th>\n",
       "      <th>2020-01</th>\n",
       "      <th>2021-01</th>\n",
       "    </tr>\n",
       "  </thead>\n",
       "  <tbody>\n",
       "    <tr>\n",
       "      <th>7</th>\n",
       "      <td>2454</td>\n",
       "      <td>2700</td>\n",
       "      <td>2920</td>\n",
       "      <td>3105</td>\n",
       "      <td>3248</td>\n",
       "      <td>3430</td>\n",
       "      <td>3486</td>\n",
       "      <td>3429</td>\n",
       "    </tr>\n",
       "  </tbody>\n",
       "</table>\n",
       "</div>"
      ],
      "text/plain": [
       "  2014-01 2015-01 2016-01 2017-01 2018-01 2019-01 2020-01 2021-01\n",
       "7    2454    2700    2920    3105    3248    3430    3486    3429"
      ]
     },
     "execution_count": 40,
     "metadata": {},
     "output_type": "execute_result"
    }
   ],
   "source": [
    "westwood[desired_columns]"
   ]
  },
  {
   "cell_type": "markdown",
   "id": "0c7bb3b7-1908-4ea9-8586-8e33d64653b5",
   "metadata": {},
   "source": [
    "Now we'll redefine this limited data so we can keep it accessible."
   ]
  },
  {
   "cell_type": "code",
   "execution_count": 45,
   "id": "3cedbcf0-eed3-48da-8dc9-b9fd3dfdbdeb",
   "metadata": {},
   "outputs": [
    {
     "data": {
      "text/html": [
       "<div>\n",
       "<style scoped>\n",
       "    .dataframe tbody tr th:only-of-type {\n",
       "        vertical-align: middle;\n",
       "    }\n",
       "\n",
       "    .dataframe tbody tr th {\n",
       "        vertical-align: top;\n",
       "    }\n",
       "\n",
       "    .dataframe thead th {\n",
       "        text-align: right;\n",
       "    }\n",
       "</style>\n",
       "<table border=\"1\" class=\"dataframe\">\n",
       "  <thead>\n",
       "    <tr style=\"text-align: right;\">\n",
       "      <th></th>\n",
       "      <th>2014-01</th>\n",
       "      <th>2015-01</th>\n",
       "      <th>2016-01</th>\n",
       "      <th>2017-01</th>\n",
       "      <th>2018-01</th>\n",
       "      <th>2019-01</th>\n",
       "      <th>2020-01</th>\n",
       "      <th>2021-01</th>\n",
       "    </tr>\n",
       "  </thead>\n",
       "  <tbody>\n",
       "    <tr>\n",
       "      <th>7</th>\n",
       "      <td>2454</td>\n",
       "      <td>2700</td>\n",
       "      <td>2920</td>\n",
       "      <td>3105</td>\n",
       "      <td>3248</td>\n",
       "      <td>3430</td>\n",
       "      <td>3486</td>\n",
       "      <td>3429</td>\n",
       "    </tr>\n",
       "  </tbody>\n",
       "</table>\n",
       "</div>"
      ],
      "text/plain": [
       "  2014-01 2015-01 2016-01 2017-01 2018-01 2019-01 2020-01 2021-01\n",
       "7    2454    2700    2920    3105    3248    3430    3486    3429"
      ]
     },
     "execution_count": 45,
     "metadata": {},
     "output_type": "execute_result"
    }
   ],
   "source": [
    "westwoodrents = westwood[desired_columns].copy()\n",
    "westwoodrents"
   ]
  },
  {
   "cell_type": "markdown",
   "id": "d61c4bfa-4aec-4d38-9850-75cf854192c1",
   "metadata": {},
   "source": [
    "With the data re-imported, we can now create a chart."
   ]
  },
  {
   "cell_type": "markdown",
   "id": "ecbb709e-9435-4a1a-add0-cdc0064dd5a3",
   "metadata": {},
   "source": [
    "**10.** Transforming the data: unfortunately, our independent variable (time) is currently arranged in columns, whereas we need to get in it rows for charting.  We need to convert our columns to rows.\n",
    "\n",
    "NB: I struggled for a while to pivot/transpose my data but couldn't figure out how in time.  From here on I will sheepishly use a table with the data recreated in Excel. Sorry python gods; I promise I will learn."
   ]
  },
  {
   "cell_type": "markdown",
   "id": "2223b026-94be-41a0-ab3a-34feba68dc31",
   "metadata": {},
   "source": [
    "**11.** Changing the new data to integers"
   ]
  },
  {
   "cell_type": "code",
   "execution_count": 80,
   "id": "fb443036-ef7e-4632-8312-69c6ba05d3ac",
   "metadata": {},
   "outputs": [
    {
     "name": "stdout",
     "output_type": "stream",
     "text": [
      "<class 'geopandas.geodataframe.GeoDataFrame'>\n",
      "RangeIndex: 8 entries, 0 to 7\n",
      "Data columns (total 3 columns):\n",
      " #   Column    Non-Null Count  Dtype   \n",
      "---  ------    --------------  -----   \n",
      " 0   field_1   8 non-null      object  \n",
      " 1   Rent      8 non-null      object  \n",
      " 2   geometry  0 non-null      geometry\n",
      "dtypes: geometry(1), object(2)\n",
      "memory usage: 320.0+ bytes\n",
      "<class 'geopandas.geodataframe.GeoDataFrame'>\n",
      "RangeIndex: 8 entries, 0 to 7\n",
      "Data columns (total 3 columns):\n",
      " #   Column    Non-Null Count  Dtype   \n",
      "---  ------    --------------  -----   \n",
      " 0   field_1   8 non-null      object  \n",
      " 1   Rent      8 non-null      int64   \n",
      " 2   geometry  0 non-null      geometry\n",
      "dtypes: geometry(1), int64(1), object(1)\n",
      "memory usage: 320.0+ bytes\n"
     ]
    }
   ],
   "source": [
    "westwoodrentsexcel = gpd.read_file('westwoodrentsexcel.csv')\n",
    "westwoodrentsexcel.info()\n",
    "westwoodrentsexcel['Rent']=westwoodrentsexcel['Rent'].astype(int)\n",
    "westwoodrentsexcel.info()"
   ]
  },
  {
   "cell_type": "markdown",
   "id": "56f9317b-1251-43bd-823a-94f902d2a398",
   "metadata": {},
   "source": [
    "**11.** Charting: Now that we have converted the new table of data to integers, we can chart it."
   ]
  },
  {
   "cell_type": "code",
   "execution_count": 83,
   "id": "da6d528e-9a44-4a2e-998e-ae68f60af7fa",
   "metadata": {},
   "outputs": [
    {
     "data": {
      "text/plain": [
       "<AxesSubplot:title={'center':'Westwood Rents Over Time'}, xlabel='field_1'>"
      ]
     },
     "execution_count": 83,
     "metadata": {},
     "output_type": "execute_result"
    },
    {
     "data": {
      "image/png": "[encoded data removed]",
      "text/plain": [
       "<Figure size 432x288 with 1 Axes>"
      ]
     },
     "metadata": {
      "needs_background": "light"
     },
     "output_type": "display_data"
    }
   ],
   "source": [
    "westwoodrentsexcel.plot.bar(x = 'field_1', y = 'Rent', title = 'Westwood Rents Over Time')"
   ]
  },
  {
   "cell_type": "markdown",
   "id": "c97a5f1e-1ac6-4aee-8109-9dfec80e65d8",
   "metadata": {},
   "source": [
    "**12.** Conclusion: The rent is too damn high and Jeremy will start much earlier on his assignment next week."
   ]
  },
  {
   "cell_type": "markdown",
   "id": "41932f81-0c28-4a0b-80e8-c1d54af2f96d",
   "metadata": {},
   "source": [
    "P.S.: I didn't run the .value_counts() function at any point because I didn't see any applicability to the data given the nature of the set."
   ]
  },
  {
   "cell_type": "code",
   "execution_count": null,
   "id": "8cf491ac-144a-4247-baa1-15942b7e3cbc",
   "metadata": {},
   "outputs": [],
   "source": []
  }
 ],
 "metadata": {
  "kernelspec": {
   "display_name": "Python 3 (ipykernel)",
   "language": "python",
   "name": "python3"
  },
  "language_info": {
   "codemirror_mode": {
    "name": "ipython",
    "version": 3
   },
   "file_extension": ".py",
   "mimetype": "text/x-python",
   "name": "python",
   "nbconvert_exporter": "python",
   "pygments_lexer": "ipython3",
   "version": "3.9.6"
  }
 },
 "nbformat": 4,
 "nbformat_minor": 5
}
